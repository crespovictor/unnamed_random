{
 "cells": [
  {
   "cell_type": "code",
   "execution_count": 1,
   "id": "e3656f7e",
   "metadata": {},
   "outputs": [
    {
     "name": "stdout",
     "output_type": "stream",
     "text": [
      "4.3600412792230765\n",
      "25.29371890014953\n",
      "21.083593823137566\n",
      "18.468820060030875\n",
      "20.328950633603746\n",
      "22.631237157208204\n",
      "14.972448672710547\n",
      "11.883153769754372\n",
      "10.038741072526182\n",
      "12.021263122558594\n",
      "14.05120133915641\n",
      "20.981884568272566\n",
      "26.568819317214373\n"
     ]
    }
   ],
   "source": [
    "import carla\n",
    "import random\n",
    "import math\n",
    "client = carla.Client('localhost', 2000)\n",
    "world = client.get_world()\n",
    "client.load_world('Town10HD')\n",
    "\n",
    "def calculate_distance(ego, spawn):\n",
    "    return math.sqrt((math.pow(ego.location.x - spawn.location.x,2) + math.pow(ego.location.y - spawn.location.y,2)))\n",
    "\n",
    "def get_valid_npc_spawns(spawns, ego): #check that NPCs and Ego are facing the same direction\n",
    "    valid = []\n",
    "    ego_transform = ego.get_transform()\n",
    "    for spawn in spawns:\n",
    "        if (ego_transform.rotation.yaw - 45 <= abs(spawn.rotation.yaw)) and (ego_transform.rotation.yaw + 45 >= abs(spawn.rotation.yaw)):\n",
    "            valid.append(spawn)\n",
    "\n",
    "    return valid\n",
    "\n",
    "bp_library = world.get_blueprint_library()\n",
    "vehicle_bp = bp_library.find('vehicle.lincoln.mkz_2017')\n",
    "spawns = world.get_map().get_spawn_points()\n",
    "ego_spawn = spawns[1]\n",
    "\n",
    "ego = world.spawn_actor(vehicle_bp, ego_spawn)\n",
    "spectator = world.get_spectator()\n",
    "col_bp = world.get_blueprint_library().find('sensor.other.collision')\n",
    "#spectator.set_transform(carla.Transform(ego.get_transform().location + carla.Location(z=50), carla.Rotation(pitch = -90)))\n",
    "col_transform = carla.Transform(carla.Location(x=-10, z=10))\n",
    "col = world.spawn_actor(col_bp, col_transform, attach_to=ego)\n",
    "world.tick()\n",
    "spectator.set_transform(carla.Transform(col.get_transform().location, carla.Rotation(pitch = -30, yaw = 90)))\n",
    "npc_spawns = []\n",
    "for point in spawns:\n",
    "    d = calculate_distance(ego_spawn, point)\n",
    "    if d <= 30 and d!= 0.0:\n",
    "        npc_spawns.append(point)\n",
    "        print(d)\n",
    "        \n",
    "        \n",
    "valid_spawns = get_valid_npc_spawns(npc_spawns, ego)\n",
    "#npc = world.spawn_actor(bp_library.find('vehicle.nissan.micra'), valid_spawns[4])\n"
   ]
  },
  {
   "cell_type": "code",
   "execution_count": 130,
   "id": "48b2c3db",
   "metadata": {},
   "outputs": [
    {
     "data": {
      "text/plain": [
       "True"
      ]
     },
     "execution_count": 130,
     "metadata": {},
     "output_type": "execute_result"
    }
   ],
   "source": [
    "ego.destroy()"
   ]
  },
  {
   "cell_type": "code",
   "execution_count": 7,
   "id": "f9e4aab3",
   "metadata": {},
   "outputs": [
    {
     "ename": "AttributeError",
     "evalue": "'Player' object has no attribute 'destroy'",
     "output_type": "error",
     "traceback": [
      "\u001b[0;31m---------------------------------------------------------------------------\u001b[0m",
      "\u001b[0;31mAttributeError\u001b[0m                            Traceback (most recent call last)",
      "\u001b[0;32m<ipython-input-7-e0be7a2fdac4>\u001b[0m in \u001b[0;36m<module>\u001b[0;34m\u001b[0m\n\u001b[0;32m----> 1\u001b[0;31m \u001b[0mnpc\u001b[0m\u001b[0;34m.\u001b[0m\u001b[0mdestroy\u001b[0m\u001b[0;34m(\u001b[0m\u001b[0;34m)\u001b[0m\u001b[0;34m\u001b[0m\u001b[0;34m\u001b[0m\u001b[0m\n\u001b[0m\u001b[1;32m      2\u001b[0m \u001b[0;31m#ego.destroy()\u001b[0m\u001b[0;34m\u001b[0m\u001b[0;34m\u001b[0m\u001b[0;34m\u001b[0m\u001b[0m\n",
      "\u001b[0;31mAttributeError\u001b[0m: 'Player' object has no attribute 'destroy'"
     ]
    }
   ],
   "source": [
    "npc.destroy()\n",
    "#ego.destroy()"
   ]
  },
  {
   "cell_type": "code",
   "execution_count": 2,
   "id": "667039bf",
   "metadata": {},
   "outputs": [],
   "source": [
    "vel_ref = 5\n",
    "waypoints = []\n",
    "def change_lane_left(npc):\n",
    "    current_waypoint = world.get_map().get_waypoint(npc.get_location())\n",
    "    left_lane = current_waypoint.get_left_lane()\n",
    "    waypoint = left_lane.next(10)[0]\n",
    "    waypoints.append(waypoint)\n",
    "    for i in range(2):\n",
    "        waypoints.append(waypoint.next(2*i+1))\n",
    "    for i in range(len(waypoints)-1):\n",
    "        current_pos = npc.get_location()\n",
    "        control_signal = controller.run_step(vel_ref,waypoint)\n",
    "        npc.apply_control(control_signal)"
   ]
  },
  {
   "cell_type": "code",
   "execution_count": 3,
   "id": "bbd5588f",
   "metadata": {},
   "outputs": [],
   "source": [
    "from agents.navigation.controller import VehiclePIDController"
   ]
  },
  {
   "cell_type": "code",
   "execution_count": 5,
   "id": "326b9231",
   "metadata": {},
   "outputs": [
    {
     "ename": "NameError",
     "evalue": "name 'npc' is not defined",
     "output_type": "error",
     "traceback": [
      "\u001b[0;31m---------------------------------------------------------------------------\u001b[0m",
      "\u001b[0;31mNameError\u001b[0m                                 Traceback (most recent call last)",
      "\u001b[0;32m<ipython-input-5-f31eb5816148>\u001b[0m in \u001b[0;36m<module>\u001b[0;34m\u001b[0m\n\u001b[0;32m----> 1\u001b[0;31m controller = VehiclePIDController(npc, args_lateral=args_lateral_dict,\n\u001b[0m\u001b[1;32m      2\u001b[0m                                         \u001b[0margs_longitudinal\u001b[0m\u001b[0;34m=\u001b[0m\u001b[0margs_longitudinal_dict\u001b[0m\u001b[0;34m,\u001b[0m\u001b[0;34m\u001b[0m\u001b[0;34m\u001b[0m\u001b[0m\n\u001b[1;32m      3\u001b[0m                                         \u001b[0moffset\u001b[0m\u001b[0;34m=\u001b[0m\u001b[0moffset\u001b[0m\u001b[0;34m,\u001b[0m\u001b[0;34m\u001b[0m\u001b[0;34m\u001b[0m\u001b[0m\n\u001b[1;32m      4\u001b[0m                                         \u001b[0mmax_throttle\u001b[0m\u001b[0;34m=\u001b[0m\u001b[0mmax_throt\u001b[0m\u001b[0;34m,\u001b[0m\u001b[0;34m\u001b[0m\u001b[0;34m\u001b[0m\u001b[0m\n\u001b[1;32m      5\u001b[0m                                         \u001b[0mmax_brake\u001b[0m\u001b[0;34m=\u001b[0m\u001b[0mmax_brake\u001b[0m\u001b[0;34m,\u001b[0m\u001b[0;34m\u001b[0m\u001b[0;34m\u001b[0m\u001b[0m\n",
      "\u001b[0;31mNameError\u001b[0m: name 'npc' is not defined"
     ]
    }
   ],
   "source": [
    "controller = VehiclePIDController(npc, args_lateral=args_lateral_dict,\n",
    "                                        args_longitudinal=args_longitudinal_dict,\n",
    "                                        offset=offset,\n",
    "                                        max_throttle=max_throt,\n",
    "                                        max_brake=max_brake,\n",
    "                                        max_steering=max_steer)"
   ]
  },
  {
   "cell_type": "code",
   "execution_count": 4,
   "id": "45a293be",
   "metadata": {},
   "outputs": [],
   "source": [
    "max_throt = 0.75\n",
    "max_brake = 0.3\n",
    "max_steer = 0.8\n",
    "dt = 1.0 / 20.0\n",
    "args_lateral_dict = {'K_P': 1.95, 'K_I': 0.05, 'K_D': 0.2, 'dt': dt}\n",
    "args_longitudinal_dict = {'K_P': 1.0, 'K_I': 0.05, 'K_D': 0, 'dt': dt}\n",
    "offset = 0"
   ]
  },
  {
   "cell_type": "code",
   "execution_count": 44,
   "id": "16426d70",
   "metadata": {},
   "outputs": [],
   "source": [
    "change_lane_left(npc)"
   ]
  },
  {
   "cell_type": "code",
   "execution_count": 2,
   "id": "b3508786",
   "metadata": {},
   "outputs": [],
   "source": [
    "from example_sof import Player"
   ]
  },
  {
   "cell_type": "code",
   "execution_count": 6,
   "id": "52bf2a38",
   "metadata": {},
   "outputs": [],
   "source": [
    "npc = Player(world, bp_library.find('vehicle.nissan.micra'), valid_spawns[4])"
   ]
  },
  {
   "cell_type": "code",
   "execution_count": 7,
   "id": "9efc6cd4",
   "metadata": {},
   "outputs": [
    {
     "ename": "KeyboardInterrupt",
     "evalue": "",
     "output_type": "error",
     "traceback": [
      "\u001b[0;31m---------------------------------------------------------------------------\u001b[0m",
      "\u001b[0;31mKeyboardInterrupt\u001b[0m                         Traceback (most recent call last)",
      "\u001b[0;32m<ipython-input-7-986a1b18b961>\u001b[0m in \u001b[0;36m<module>\u001b[0;34m\u001b[0m\n\u001b[0;32m----> 1\u001b[0;31m \u001b[0mnpc\u001b[0m\u001b[0;34m.\u001b[0m\u001b[0mdo_right_lane_change\u001b[0m\u001b[0;34m(\u001b[0m\u001b[0;34m)\u001b[0m\u001b[0;34m\u001b[0m\u001b[0;34m\u001b[0m\u001b[0m\n\u001b[0m",
      "\u001b[0;32m~/Desktop/unnamed_technique/example_sof.py\u001b[0m in \u001b[0;36mdo_right_lane_change\u001b[0;34m(self)\u001b[0m\n\u001b[1;32m    106\u001b[0m         \u001b[0;32mfor\u001b[0m \u001b[0mi\u001b[0m \u001b[0;32min\u001b[0m \u001b[0mrange\u001b[0m\u001b[0;34m(\u001b[0m\u001b[0mlen\u001b[0m\u001b[0;34m(\u001b[0m\u001b[0mself\u001b[0m\u001b[0;34m.\u001b[0m\u001b[0mwaypointsList\u001b[0m\u001b[0;34m)\u001b[0m\u001b[0;34m-\u001b[0m\u001b[0;36m1\u001b[0m\u001b[0;34m)\u001b[0m\u001b[0;34m:\u001b[0m\u001b[0;34m\u001b[0m\u001b[0;34m\u001b[0m\u001b[0m\n\u001b[1;32m    107\u001b[0m             \u001b[0mself\u001b[0m\u001b[0;34m.\u001b[0m\u001b[0mcurrent_pos\u001b[0m \u001b[0;34m=\u001b[0m \u001b[0mself\u001b[0m\u001b[0;34m.\u001b[0m\u001b[0mvehicle\u001b[0m\u001b[0;34m.\u001b[0m\u001b[0mget_location\u001b[0m\u001b[0;34m(\u001b[0m\u001b[0;34m)\u001b[0m\u001b[0;34m\u001b[0m\u001b[0;34m\u001b[0m\u001b[0m\n\u001b[0;32m--> 108\u001b[0;31m             \u001b[0mself\u001b[0m\u001b[0;34m.\u001b[0m\u001b[0mgo2Waypoint\u001b[0m\u001b[0;34m(\u001b[0m\u001b[0mself\u001b[0m\u001b[0;34m.\u001b[0m\u001b[0mwaypointsList\u001b[0m\u001b[0;34m[\u001b[0m\u001b[0mi\u001b[0m\u001b[0;34m]\u001b[0m\u001b[0;34m)\u001b[0m\u001b[0;34m\u001b[0m\u001b[0;34m\u001b[0m\u001b[0m\n\u001b[0m\u001b[1;32m    109\u001b[0m             \u001b[0mself\u001b[0m\u001b[0;34m.\u001b[0m\u001b[0mpast_pos\u001b[0m \u001b[0;34m=\u001b[0m \u001b[0mself\u001b[0m\u001b[0;34m.\u001b[0m\u001b[0mcurrent_pos\u001b[0m\u001b[0;34m\u001b[0m\u001b[0;34m\u001b[0m\u001b[0m\n\u001b[1;32m    110\u001b[0m             \u001b[0mself\u001b[0m\u001b[0;34m.\u001b[0m\u001b[0mupdate_spectator\u001b[0m\u001b[0;34m(\u001b[0m\u001b[0;34m)\u001b[0m\u001b[0;34m\u001b[0m\u001b[0;34m\u001b[0m\u001b[0m\n",
      "\u001b[0;32m~/Desktop/unnamed_technique/example_sof.py\u001b[0m in \u001b[0;36mgo2Waypoint\u001b[0;34m(self, waypoint, draw_waypoint, threshold)\u001b[0m\n\u001b[1;32m     80\u001b[0m                 \u001b[0mself\u001b[0m\u001b[0;34m.\u001b[0m\u001b[0mvehicle\u001b[0m\u001b[0;34m.\u001b[0m\u001b[0mapply_control\u001b[0m\u001b[0;34m(\u001b[0m\u001b[0mcontrol_signal\u001b[0m\u001b[0;34m)\u001b[0m\u001b[0;34m\u001b[0m\u001b[0;34m\u001b[0m\u001b[0m\n\u001b[1;32m     81\u001b[0m \u001b[0;34m\u001b[0m\u001b[0m\n\u001b[0;32m---> 82\u001b[0;31m                 \u001b[0mself\u001b[0m\u001b[0;34m.\u001b[0m\u001b[0mupdate_spectator\u001b[0m\u001b[0;34m(\u001b[0m\u001b[0;34m)\u001b[0m\u001b[0;34m\u001b[0m\u001b[0;34m\u001b[0m\u001b[0m\n\u001b[0m\u001b[1;32m     83\u001b[0m \u001b[0;34m\u001b[0m\u001b[0m\n\u001b[1;32m     84\u001b[0m     \u001b[0;32mdef\u001b[0m \u001b[0mgetLeftLaneWaypoints\u001b[0m\u001b[0;34m(\u001b[0m\u001b[0mself\u001b[0m\u001b[0;34m,\u001b[0m \u001b[0moffset\u001b[0m \u001b[0;34m=\u001b[0m \u001b[0;36m2\u001b[0m\u001b[0;34m*\u001b[0m\u001b[0mVEHICLE_VEL\u001b[0m\u001b[0;34m,\u001b[0m \u001b[0mseparation\u001b[0m \u001b[0;34m=\u001b[0m \u001b[0;36m0.3\u001b[0m\u001b[0;34m)\u001b[0m\u001b[0;34m:\u001b[0m\u001b[0;34m\u001b[0m\u001b[0;34m\u001b[0m\u001b[0m\n",
      "\u001b[0;32m~/Desktop/unnamed_technique/example_sof.py\u001b[0m in \u001b[0;36mupdate_spectator\u001b[0;34m(self)\u001b[0m\n\u001b[1;32m    116\u001b[0m \u001b[0;34m\u001b[0m\u001b[0m\n\u001b[1;32m    117\u001b[0m         \u001b[0mself\u001b[0m\u001b[0;34m.\u001b[0m\u001b[0mspectator\u001b[0m\u001b[0;34m.\u001b[0m\u001b[0mset_transform\u001b[0m\u001b[0;34m(\u001b[0m\u001b[0mspectator_transform\u001b[0m\u001b[0;34m)\u001b[0m\u001b[0;34m\u001b[0m\u001b[0;34m\u001b[0m\u001b[0m\n\u001b[0;32m--> 118\u001b[0;31m         \u001b[0mself\u001b[0m\u001b[0;34m.\u001b[0m\u001b[0mworld\u001b[0m\u001b[0;34m.\u001b[0m\u001b[0mtick\u001b[0m\u001b[0;34m(\u001b[0m\u001b[0;34m)\u001b[0m\u001b[0;34m\u001b[0m\u001b[0;34m\u001b[0m\u001b[0m\n\u001b[0m\u001b[1;32m    119\u001b[0m \u001b[0;34m\u001b[0m\u001b[0m\n\u001b[1;32m    120\u001b[0m     \u001b[0;32mdef\u001b[0m \u001b[0mis_waypoint_in_direction_of_motion\u001b[0m\u001b[0;34m(\u001b[0m\u001b[0mself\u001b[0m\u001b[0;34m,\u001b[0m\u001b[0mwaypoint\u001b[0m\u001b[0;34m)\u001b[0m\u001b[0;34m:\u001b[0m\u001b[0;34m\u001b[0m\u001b[0;34m\u001b[0m\u001b[0m\n",
      "\u001b[0;31mKeyboardInterrupt\u001b[0m: "
     ]
    }
   ],
   "source": [
    "npc.do_right_lane_change()"
   ]
  },
  {
   "cell_type": "code",
   "execution_count": 8,
   "id": "003bbb56",
   "metadata": {},
   "outputs": [],
   "source": [
    "npc.do_left_lane_change()"
   ]
  },
  {
   "cell_type": "code",
   "execution_count": 9,
   "id": "57ddc1fc",
   "metadata": {},
   "outputs": [],
   "source": [
    "npc.destroy()"
   ]
  },
  {
   "cell_type": "code",
   "execution_count": 3,
   "id": "22fdaa66",
   "metadata": {},
   "outputs": [],
   "source": [
    "map = world.get_map()"
   ]
  },
  {
   "cell_type": "code",
   "execution_count": 7,
   "id": "92531fe5",
   "metadata": {},
   "outputs": [
    {
     "data": {
      "text/plain": [
       "<carla.libcarla.Waypoint at 0x7f9a4928a870>"
      ]
     },
     "execution_count": 7,
     "metadata": {},
     "output_type": "execute_result"
    }
   ],
   "source": [
    "map.get_waypoint(ego.get_location()).get_left_lane()"
   ]
  },
  {
   "cell_type": "code",
   "execution_count": 3,
   "id": "d780a3b5",
   "metadata": {},
   "outputs": [
    {
     "ename": "ModuleNotFoundError",
     "evalue": "No module named 'cyber_compatibility'",
     "output_type": "error",
     "traceback": [
      "\u001b[0;31m---------------------------------------------------------------------------\u001b[0m",
      "\u001b[0;31mModuleNotFoundError\u001b[0m                       Traceback (most recent call last)",
      "\u001b[0;32m<ipython-input-3-30bddd19a546>\u001b[0m in \u001b[0;36m<module>\u001b[0;34m\u001b[0m\n\u001b[0;32m----> 1\u001b[0;31m \u001b[0;32mfrom\u001b[0m \u001b[0mcarla_apollo_bridge\u001b[0m\u001b[0;34m.\u001b[0m\u001b[0mcarla_spawn_objects\u001b[0m\u001b[0;34m.\u001b[0m\u001b[0mcarla_spawn_objects\u001b[0m \u001b[0;32mimport\u001b[0m \u001b[0mCarlaSpawnObjects\u001b[0m\u001b[0;34m\u001b[0m\u001b[0;34m\u001b[0m\u001b[0m\n\u001b[0m",
      "\u001b[0;32m~/Desktop/unnamed_technique/carla_apollo_bridge/carla_spawn_objects/carla_spawn_objects.py\u001b[0m in \u001b[0;36m<module>\u001b[0;34m\u001b[0m\n\u001b[1;32m     27\u001b[0m \u001b[0;32mfrom\u001b[0m \u001b[0mtransforms3d\u001b[0m\u001b[0;34m.\u001b[0m\u001b[0meuler\u001b[0m \u001b[0;32mimport\u001b[0m \u001b[0meuler2quat\u001b[0m\u001b[0;34m\u001b[0m\u001b[0;34m\u001b[0m\u001b[0m\n\u001b[1;32m     28\u001b[0m \u001b[0;34m\u001b[0m\u001b[0m\n\u001b[0;32m---> 29\u001b[0;31m \u001b[0;32mimport\u001b[0m \u001b[0mcyber_compatibility\u001b[0m \u001b[0;32mas\u001b[0m \u001b[0mcybercomp\u001b[0m\u001b[0;34m\u001b[0m\u001b[0;34m\u001b[0m\u001b[0m\n\u001b[0m\u001b[1;32m     30\u001b[0m \u001b[0;32mfrom\u001b[0m \u001b[0mcyber_compatibility\u001b[0m\u001b[0;34m.\u001b[0m\u001b[0mexceptions\u001b[0m \u001b[0;32mimport\u001b[0m \u001b[0;34m*\u001b[0m\u001b[0;34m\u001b[0m\u001b[0;34m\u001b[0m\u001b[0m\n\u001b[1;32m     31\u001b[0m \u001b[0;32mfrom\u001b[0m \u001b[0mcyber_compatibility\u001b[0m\u001b[0;34m.\u001b[0m\u001b[0mnode\u001b[0m \u001b[0;32mimport\u001b[0m \u001b[0mCompatibleNode\u001b[0m\u001b[0;34m\u001b[0m\u001b[0;34m\u001b[0m\u001b[0m\n",
      "\u001b[0;31mModuleNotFoundError\u001b[0m: No module named 'cyber_compatibility'"
     ]
    }
   ],
   "source": [
    "from carla_apollo_bridge.carla_spawn_objects.carla_spawn_objects import CarlaSpawnObjects"
   ]
  },
  {
   "cell_type": "code",
   "execution_count": null,
   "id": "ab91a2be",
   "metadata": {},
   "outputs": [],
   "source": []
  }
 ],
 "metadata": {
  "kernelspec": {
   "display_name": "Python 3",
   "language": "python",
   "name": "python3"
  },
  "language_info": {
   "codemirror_mode": {
    "name": "ipython",
    "version": 3
   },
   "file_extension": ".py",
   "mimetype": "text/x-python",
   "name": "python",
   "nbconvert_exporter": "python",
   "pygments_lexer": "ipython3",
   "version": "3.6.9"
  }
 },
 "nbformat": 4,
 "nbformat_minor": 5
}
